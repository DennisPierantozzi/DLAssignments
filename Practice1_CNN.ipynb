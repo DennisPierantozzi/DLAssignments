{
 "cells": [
  {
   "cell_type": "markdown",
   "id": "9b5996d8-1c7f-437d-ae75-deae468c7602",
   "metadata": {},
   "source": [
    "# Dennis Pierantozzi & Francesco Maria Mosca"
   ]
  },
  {
   "cell_type": "markdown",
   "id": "5eacc32a-52f1-49f9-ae0c-2c87c3093bac",
   "metadata": {},
   "source": [
    "## Practice 1 CNNs"
   ]
  },
  {
   "cell_type": "markdown",
   "id": "a68c343d-7877-443c-bd33-fe5d23eeaa03",
   "metadata": {},
   "source": [
    "### Loading the dataset"
   ]
  },
  {
   "cell_type": "code",
   "execution_count": null,
   "id": "5ff91d61-dc63-434a-a67f-8ad7bbc49d83",
   "metadata": {},
   "outputs": [],
   "source": []
  }
 ],
 "metadata": {
  "kernelspec": {
   "display_name": "Python 3 (ipykernel)",
   "language": "python",
   "name": "python3"
  },
  "language_info": {
   "codemirror_mode": {
    "name": "ipython",
    "version": 3
   },
   "file_extension": ".py",
   "mimetype": "text/x-python",
   "name": "python",
   "nbconvert_exporter": "python",
   "pygments_lexer": "ipython3",
   "version": "3.10.13"
  }
 },
 "nbformat": 4,
 "nbformat_minor": 5
}
