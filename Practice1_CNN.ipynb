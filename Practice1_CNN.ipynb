{
 "cells": [
  {
   "cell_type": "markdown",
   "id": "9b5996d8-1c7f-437d-ae75-deae468c7602",
   "metadata": {},
   "source": [
    "# Dennis Pierantozzi & Francesco Maria Mosca"
   ]
  },
  {
   "cell_type": "markdown",
   "id": "5eacc32a-52f1-49f9-ae0c-2c87c3093bac",
   "metadata": {},
   "source": [
    "## Practice 1 CNNs"
   ]
  },
  {
   "cell_type": "markdown",
   "id": "a68c343d-7877-443c-bd33-fe5d23eeaa03",
   "metadata": {},
   "source": [
    "### Loading the dataset"
   ]
  },
  {
   "cell_type": "code",
   "execution_count": 4,
   "id": "5ff91d61-dc63-434a-a67f-8ad7bbc49d83",
   "metadata": {},
   "outputs": [],
   "source": [
    "import os\n",
    "\n",
    "# Get the current working directory\n",
    "current_dir = os.getcwd()\n",
    "\n",
    "# Define the relative paths to your train and test directories\n",
    "train_dir = os.path.join(current_dir, 'animals', 'train')\n",
    "test_dir = os.path.join(current_dir, 'animals', 'val')"
   ]
  },
  {
   "cell_type": "markdown",
   "id": "51d79283-9f24-408e-9813-b852772ea506",
   "metadata": {},
   "source": [
    "### Preprocessing the data"
   ]
  },
  {
   "cell_type": "markdown",
   "id": "d6e1936f-6c5a-40cb-90bf-b50f8ae7d3d6",
   "metadata": {},
   "source": [
    "What have we done here? <br>\n",
    "We have used the function the professor suggested and preprocessed the data <br>\n",
    "for the train data the labels are inferred by the directory and categorical encoded. Size fixed in 120 and 120 and shuffled <br>\n",
    "for the test same but not shuffled since it is not needed <br>\n",
    "#### Created a validation dataset from the training dataset (split: 0.2)"
   ]
  },
  {
   "cell_type": "code",
   "execution_count": 5,
   "id": "89d8e656-7e81-4c7b-8923-5c44dd3616a9",
   "metadata": {},
   "outputs": [
    {
     "name": "stdout",
     "output_type": "stream",
     "text": [
      "Found 13474 files belonging to 5 classes.\n",
      "Using 10780 files for training.\n",
      "Found 13474 files belonging to 5 classes.\n",
      "Using 2694 files for validation.\n",
      "Found 1497 files belonging to 5 classes.\n"
     ]
    }
   ],
   "source": [
    "from keras.utils import image_dataset_from_directory\n",
    "\n",
    "# Create TensorFlow datasets for training and validation\n",
    "train_data = image_dataset_from_directory(\n",
    "    train_dir,\n",
    "    labels='inferred',\n",
    "    label_mode='categorical',  # For one-hot encoded labels\n",
    "    image_size=(120, 120),  # Resize images to (120, 120)\n",
    "    batch_size=32,  # Batch size\n",
    "    shuffle=True,  # Shuffle the data\n",
    "    seed=123,  # Random seed for shuffling\n",
    "    validation_split=0.2,  # Fraction of training data to use for validation\n",
    "    subset='training'  # Use the training subset\n",
    ")\n",
    "\n",
    "validation_data = image_dataset_from_directory(\n",
    "    train_dir,\n",
    "    labels='inferred',\n",
    "    label_mode='categorical',  # For one-hot encoded labels\n",
    "    image_size=(120, 120),  # Resize images to (120, 120)\n",
    "    batch_size=32,  # Batch size\n",
    "    shuffle=False,  # Do not shuffle the data\n",
    "    seed=123,  # Random seed for shuffling\n",
    "    validation_split=0.2,  # Fraction of training data to use for validation\n",
    "    subset='validation'  # Use the validation subset\n",
    ")\n",
    "\n",
    "test_data = image_dataset_from_directory(\n",
    "    test_dir,\n",
    "    labels='inferred',\n",
    "    label_mode='categorical',  # For one-hot encoded labels\n",
    "    image_size=(120, 120),  # Resize images to (120, 120)\n",
    "    batch_size=32  # Batch size\n",
    ")"
   ]
  },
  {
   "cell_type": "markdown",
   "id": "632c04ad-7772-4a30-8098-a0b8cc805c18",
   "metadata": {},
   "source": [
    "### Data agumentation"
   ]
  },
  {
   "cell_type": "markdown",
   "id": "30268117-5469-4367-949e-4a945c28dd59",
   "metadata": {},
   "source": [
    "Why data agumentation? Which kind of things are we doing here? "
   ]
  },
  {
   "cell_type": "code",
   "execution_count": null,
   "id": "2af62107-f2d3-40a1-8151-f300dbeaed45",
   "metadata": {},
   "outputs": [],
   "source": [
    "data_augmentation = keras.Sequential(\n",
    "    [\n",
    "        layers.RandomFlip(\"horizontal\"),\n",
    "        layers.RandomRotation(0.1),\n",
    "        layers.RandomZoom(0.2),\n",
    "        layers.Rescaling(1./255)\n",
    "    ]\n",
    ")"
   ]
  }
 ],
 "metadata": {
  "kernelspec": {
   "display_name": "Python 3 (ipykernel)",
   "language": "python",
   "name": "python3"
  },
  "language_info": {
   "codemirror_mode": {
    "name": "ipython",
    "version": 3
   },
   "file_extension": ".py",
   "mimetype": "text/x-python",
   "name": "python",
   "nbconvert_exporter": "python",
   "pygments_lexer": "ipython3",
   "version": "3.10.13"
  }
 },
 "nbformat": 4,
 "nbformat_minor": 5
}
